{
 "cells": [
  {
   "cell_type": "markdown",
   "metadata": {},
   "source": [
    "# Introducción"
   ]
  },
  {
   "cell_type": "markdown",
   "metadata": {},
   "source": [
    "El proyecto consiste en el estudio del compartamiento de usuario de una empresa emergente que vende productos alimenticios, para ello realizará un estudio de embudo de ventas y se analizará los resultados de test A/A/B que ayudará en la decisión de cambiar las fuentes de la aplicación. En este caso se cuenta con dos grupos de control (A) y grupo de prueba (B)"
   ]
  },
  {
   "cell_type": "markdown",
   "metadata": {},
   "source": [
    "# Paso 1 Carga de data"
   ]
  },
  {
   "cell_type": "code",
   "execution_count": 128,
   "metadata": {},
   "outputs": [],
   "source": [
    "# importación de librerías\n",
    "import pandas as pd\n",
    "import matplotlib.pyplot as plt\n",
    "import seaborn as sns\n",
    "from scipy.stats import ttest_ind\n",
    "import math"
   ]
  },
  {
   "cell_type": "code",
   "execution_count": 11,
   "metadata": {},
   "outputs": [],
   "source": [
    "# carga de data\n",
    "data = pd.read_csv(\"logs_exp_us.csv\")"
   ]
  },
  {
   "cell_type": "markdown",
   "metadata": {},
   "source": [
    "# Paso 2. Preparar los datos para el análisis"
   ]
  },
  {
   "cell_type": "markdown",
   "metadata": {},
   "source": [
    "## Cambiando nombres de columnas"
   ]
  },
  {
   "cell_type": "code",
   "execution_count": 12,
   "metadata": {},
   "outputs": [],
   "source": [
    "\n",
    "#separar columnas\n",
    "data[['event_name', 'device_id_hash', 'event_times_tamp', 'exp_id']] = data[\"EventName\\tDeviceIDHash\\tEventTimestamp\\tExpId\"].str.split(\"\\t\", expand=True)\n",
    "# eliminar la columna original\n",
    "data.drop(\n",
    "    columns=[\"EventName\\tDeviceIDHash\\tEventTimestamp\\tExpId\"], inplace=True)"
   ]
  },
  {
   "cell_type": "code",
   "execution_count": 13,
   "metadata": {},
   "outputs": [
    {
     "data": {
      "text/html": [
       "<div>\n",
       "<style scoped>\n",
       "    .dataframe tbody tr th:only-of-type {\n",
       "        vertical-align: middle;\n",
       "    }\n",
       "\n",
       "    .dataframe tbody tr th {\n",
       "        vertical-align: top;\n",
       "    }\n",
       "\n",
       "    .dataframe thead th {\n",
       "        text-align: right;\n",
       "    }\n",
       "</style>\n",
       "<table border=\"1\" class=\"dataframe\">\n",
       "  <thead>\n",
       "    <tr style=\"text-align: right;\">\n",
       "      <th></th>\n",
       "      <th>event_name</th>\n",
       "      <th>device_id_hash</th>\n",
       "      <th>event_times_tamp</th>\n",
       "      <th>exp_id</th>\n",
       "    </tr>\n",
       "  </thead>\n",
       "  <tbody>\n",
       "    <tr>\n",
       "      <th>0</th>\n",
       "      <td>MainScreenAppear</td>\n",
       "      <td>4575588528974610257</td>\n",
       "      <td>1564029816</td>\n",
       "      <td>246</td>\n",
       "    </tr>\n",
       "    <tr>\n",
       "      <th>1</th>\n",
       "      <td>MainScreenAppear</td>\n",
       "      <td>7416695313311560658</td>\n",
       "      <td>1564053102</td>\n",
       "      <td>246</td>\n",
       "    </tr>\n",
       "    <tr>\n",
       "      <th>2</th>\n",
       "      <td>PaymentScreenSuccessful</td>\n",
       "      <td>3518123091307005509</td>\n",
       "      <td>1564054127</td>\n",
       "      <td>248</td>\n",
       "    </tr>\n",
       "    <tr>\n",
       "      <th>3</th>\n",
       "      <td>CartScreenAppear</td>\n",
       "      <td>3518123091307005509</td>\n",
       "      <td>1564054127</td>\n",
       "      <td>248</td>\n",
       "    </tr>\n",
       "    <tr>\n",
       "      <th>4</th>\n",
       "      <td>PaymentScreenSuccessful</td>\n",
       "      <td>6217807653094995999</td>\n",
       "      <td>1564055322</td>\n",
       "      <td>248</td>\n",
       "    </tr>\n",
       "  </tbody>\n",
       "</table>\n",
       "</div>"
      ],
      "text/plain": [
       "                event_name       device_id_hash event_times_tamp exp_id\n",
       "0         MainScreenAppear  4575588528974610257       1564029816    246\n",
       "1         MainScreenAppear  7416695313311560658       1564053102    246\n",
       "2  PaymentScreenSuccessful  3518123091307005509       1564054127    248\n",
       "3         CartScreenAppear  3518123091307005509       1564054127    248\n",
       "4  PaymentScreenSuccessful  6217807653094995999       1564055322    248"
      ]
     },
     "execution_count": 13,
     "metadata": {},
     "output_type": "execute_result"
    }
   ],
   "source": [
    "data.head()"
   ]
  },
  {
   "cell_type": "markdown",
   "metadata": {},
   "source": [
    "## Comprobando  tipos de datos y valores ausentes."
   ]
  },
  {
   "cell_type": "code",
   "execution_count": 45,
   "metadata": {},
   "outputs": [
    {
     "name": "stdout",
     "output_type": "stream",
     "text": [
      "<class 'pandas.core.frame.DataFrame'>\n",
      "RangeIndex: 243713 entries, 0 to 243712\n",
      "Data columns (total 7 columns):\n",
      " #   Column            Non-Null Count   Dtype         \n",
      "---  ------            --------------   -----         \n",
      " 0   index             243713 non-null  int64         \n",
      " 1   event_name        243713 non-null  category      \n",
      " 2   device_id_hash    243713 non-null  object        \n",
      " 3   event_times_tamp  243713 non-null  object        \n",
      " 4   exp_id            243713 non-null  int32         \n",
      " 5   fecha_hora        243713 non-null  datetime64[ns]\n",
      " 6   fecha             243713 non-null  object        \n",
      "dtypes: category(1), datetime64[ns](1), int32(1), int64(1), object(3)\n",
      "memory usage: 10.5+ MB\n"
     ]
    }
   ],
   "source": [
    "data.info()"
   ]
  },
  {
   "cell_type": "markdown",
   "metadata": {},
   "source": [
    "No hay valores ausentes"
   ]
  },
  {
   "cell_type": "code",
   "execution_count": 15,
   "metadata": {},
   "outputs": [],
   "source": [
    "data[\"event_name\"] = data[\"event_name\"].astype('category') # convirtiendo a columna categorica"
   ]
  },
  {
   "cell_type": "code",
   "execution_count": 16,
   "metadata": {},
   "outputs": [],
   "source": [
    "data[\"exp_id\"] = data[\"exp_id\"].astype('int') # convirtiendo a columna int"
   ]
  },
  {
   "cell_type": "markdown",
   "metadata": {},
   "source": [
    "Verificando duplicados"
   ]
  },
  {
   "cell_type": "code",
   "execution_count": 17,
   "metadata": {},
   "outputs": [
    {
     "data": {
      "text/plain": [
       "413"
      ]
     },
     "execution_count": 17,
     "metadata": {},
     "output_type": "execute_result"
    }
   ],
   "source": [
    "data.duplicated().sum()"
   ]
  },
  {
   "cell_type": "code",
   "execution_count": 18,
   "metadata": {},
   "outputs": [
    {
     "name": "stdout",
     "output_type": "stream",
     "text": [
      "                     event_name       device_id_hash event_times_tamp  exp_id\n",
      "453            MainScreenAppear  5613408041324010552       1564474784     248\n",
      "2350           CartScreenAppear  1694940645335807244       1564609899     248\n",
      "3573           MainScreenAppear   434103746454591587       1564628377     248\n",
      "4076           MainScreenAppear  3761373764179762633       1564631266     247\n",
      "4803           MainScreenAppear  2835328739789306622       1564634641     248\n",
      "...                         ...                  ...              ...     ...\n",
      "242329         MainScreenAppear  8870358373313968633       1565206004     247\n",
      "242332  PaymentScreenSuccessful  4718002964983105693       1565206005     247\n",
      "242360  PaymentScreenSuccessful  2382591782303281935       1565206049     246\n",
      "242362         CartScreenAppear  2382591782303281935       1565206049     246\n",
      "242635         MainScreenAppear  4097782667445790512       1565206618     246\n",
      "\n",
      "[413 rows x 4 columns]\n"
     ]
    }
   ],
   "source": [
    "print(data[data.duplicated()])"
   ]
  },
  {
   "cell_type": "code",
   "execution_count": 19,
   "metadata": {},
   "outputs": [],
   "source": [
    "#borrando duplicados\n",
    "data=data.drop_duplicates().reset_index()"
   ]
  },
  {
   "cell_type": "markdown",
   "metadata": {},
   "source": [
    "## Agregando columna de fecha y hora y una columna separada para las fechas"
   ]
  },
  {
   "cell_type": "code",
   "execution_count": 20,
   "metadata": {},
   "outputs": [
    {
     "name": "stderr",
     "output_type": "stream",
     "text": [
      "C:\\Users\\LUCIA\\AppData\\Local\\Temp\\ipykernel_9248\\1114602985.py:1: FutureWarning: The behavior of 'to_datetime' with 'unit' when parsing strings is deprecated. In a future version, strings will be parsed as datetime strings, matching the behavior without a 'unit'. To retain the old behavior, explicitly cast ints or floats to numeric type before calling to_datetime.\n",
      "  data[\"fecha_hora\"] = pd.to_datetime(data[\"event_times_tamp\"], unit='s')# convirtiendo a datatime\n"
     ]
    }
   ],
   "source": [
    "data[\"fecha_hora\"] = pd.to_datetime(data[\"event_times_tamp\"], unit='s')# convirtiendo a datatime"
   ]
  },
  {
   "cell_type": "code",
   "execution_count": 21,
   "metadata": {},
   "outputs": [],
   "source": [
    "data[\"fecha\"]=data[\"fecha_hora\"].dt.date #extrayendo fecha"
   ]
  },
  {
   "cell_type": "code",
   "execution_count": 22,
   "metadata": {},
   "outputs": [
    {
     "data": {
      "text/html": [
       "<div>\n",
       "<style scoped>\n",
       "    .dataframe tbody tr th:only-of-type {\n",
       "        vertical-align: middle;\n",
       "    }\n",
       "\n",
       "    .dataframe tbody tr th {\n",
       "        vertical-align: top;\n",
       "    }\n",
       "\n",
       "    .dataframe thead th {\n",
       "        text-align: right;\n",
       "    }\n",
       "</style>\n",
       "<table border=\"1\" class=\"dataframe\">\n",
       "  <thead>\n",
       "    <tr style=\"text-align: right;\">\n",
       "      <th></th>\n",
       "      <th>index</th>\n",
       "      <th>event_name</th>\n",
       "      <th>device_id_hash</th>\n",
       "      <th>event_times_tamp</th>\n",
       "      <th>exp_id</th>\n",
       "      <th>fecha_hora</th>\n",
       "      <th>fecha</th>\n",
       "    </tr>\n",
       "  </thead>\n",
       "  <tbody>\n",
       "    <tr>\n",
       "      <th>0</th>\n",
       "      <td>0</td>\n",
       "      <td>MainScreenAppear</td>\n",
       "      <td>4575588528974610257</td>\n",
       "      <td>1564029816</td>\n",
       "      <td>246</td>\n",
       "      <td>2019-07-25 04:43:44</td>\n",
       "      <td>2019-07-25</td>\n",
       "    </tr>\n",
       "    <tr>\n",
       "      <th>1</th>\n",
       "      <td>1</td>\n",
       "      <td>MainScreenAppear</td>\n",
       "      <td>7416695313311560658</td>\n",
       "      <td>1564053102</td>\n",
       "      <td>246</td>\n",
       "      <td>2019-07-25 11:12:00</td>\n",
       "      <td>2019-07-25</td>\n",
       "    </tr>\n",
       "    <tr>\n",
       "      <th>2</th>\n",
       "      <td>2</td>\n",
       "      <td>PaymentScreenSuccessful</td>\n",
       "      <td>3518123091307005509</td>\n",
       "      <td>1564054127</td>\n",
       "      <td>248</td>\n",
       "      <td>2019-07-25 11:29:04</td>\n",
       "      <td>2019-07-25</td>\n",
       "    </tr>\n",
       "    <tr>\n",
       "      <th>3</th>\n",
       "      <td>3</td>\n",
       "      <td>CartScreenAppear</td>\n",
       "      <td>3518123091307005509</td>\n",
       "      <td>1564054127</td>\n",
       "      <td>248</td>\n",
       "      <td>2019-07-25 11:29:04</td>\n",
       "      <td>2019-07-25</td>\n",
       "    </tr>\n",
       "    <tr>\n",
       "      <th>4</th>\n",
       "      <td>4</td>\n",
       "      <td>PaymentScreenSuccessful</td>\n",
       "      <td>6217807653094995999</td>\n",
       "      <td>1564055322</td>\n",
       "      <td>248</td>\n",
       "      <td>2019-07-25 11:48:16</td>\n",
       "      <td>2019-07-25</td>\n",
       "    </tr>\n",
       "  </tbody>\n",
       "</table>\n",
       "</div>"
      ],
      "text/plain": [
       "   index               event_name       device_id_hash event_times_tamp  \\\n",
       "0      0         MainScreenAppear  4575588528974610257       1564029816   \n",
       "1      1         MainScreenAppear  7416695313311560658       1564053102   \n",
       "2      2  PaymentScreenSuccessful  3518123091307005509       1564054127   \n",
       "3      3         CartScreenAppear  3518123091307005509       1564054127   \n",
       "4      4  PaymentScreenSuccessful  6217807653094995999       1564055322   \n",
       "\n",
       "   exp_id          fecha_hora       fecha  \n",
       "0     246 2019-07-25 04:43:44  2019-07-25  \n",
       "1     246 2019-07-25 11:12:00  2019-07-25  \n",
       "2     248 2019-07-25 11:29:04  2019-07-25  \n",
       "3     248 2019-07-25 11:29:04  2019-07-25  \n",
       "4     248 2019-07-25 11:48:16  2019-07-25  "
      ]
     },
     "execution_count": 22,
     "metadata": {},
     "output_type": "execute_result"
    }
   ],
   "source": [
    "data.head()"
   ]
  },
  {
   "cell_type": "markdown",
   "metadata": {},
   "source": [
    "# Paso 3. Estudiar y comprobar los datos"
   ]
  },
  {
   "cell_type": "markdown",
   "metadata": {},
   "source": [
    "## ¿Cuántos eventos hay en los registros?"
   ]
  },
  {
   "cell_type": "code",
   "execution_count": 23,
   "metadata": {},
   "outputs": [
    {
     "data": {
      "text/plain": [
       "['MainScreenAppear', 'PaymentScreenSuccessful', 'CartScreenAppear', 'OffersScreenAppear', 'Tutorial']\n",
       "Categories (5, object): ['CartScreenAppear', 'MainScreenAppear', 'OffersScreenAppear', 'PaymentScreenSuccessful', 'Tutorial']"
      ]
     },
     "execution_count": 23,
     "metadata": {},
     "output_type": "execute_result"
    }
   ],
   "source": [
    "data[\"event_name\"].unique()  # revisando valores únicos"
   ]
  },
  {
   "cell_type": "markdown",
   "metadata": {},
   "source": [
    "Hay 5 eventos en los registros."
   ]
  },
  {
   "cell_type": "markdown",
   "metadata": {},
   "source": [
    "## ¿Cuántos usuarios y usuarias hay en los registros?"
   ]
  },
  {
   "cell_type": "code",
   "execution_count": 24,
   "metadata": {},
   "outputs": [
    {
     "data": {
      "text/plain": [
       "7551"
      ]
     },
     "execution_count": 24,
     "metadata": {},
     "output_type": "execute_result"
    }
   ],
   "source": [
    "data[\"device_id_hash\"].nunique()  # revisando valores únicos"
   ]
  },
  {
   "cell_type": "markdown",
   "metadata": {},
   "source": [
    "Hay 7551 usuarios en el registro"
   ]
  },
  {
   "cell_type": "markdown",
   "metadata": {},
   "source": [
    "## ¿Cuál es el promedio de eventos por usuario?"
   ]
  },
  {
   "cell_type": "code",
   "execution_count": 25,
   "metadata": {},
   "outputs": [
    {
     "data": {
      "text/plain": [
       "32.27559263673685"
      ]
     },
     "execution_count": 25,
     "metadata": {},
     "output_type": "execute_result"
    }
   ],
   "source": [
    "neventos_usuario=data.groupby(\"device_id_hash\")[\"event_name\"].count()\n",
    "neventos_usuario.mean()"
   ]
  },
  {
   "cell_type": "markdown",
   "metadata": {},
   "source": [
    "El promedio de eventos por usuario es 32.26, sugiere que un mismo realizo los eventos repetidas veces, posiblemente en distintas fechas."
   ]
  },
  {
   "cell_type": "markdown",
   "metadata": {},
   "source": [
    "## ¿Qué periodo de tiempo cubren los datos? . "
   ]
  },
  {
   "cell_type": "code",
   "execution_count": 26,
   "metadata": {},
   "outputs": [
    {
     "name": "stdout",
     "output_type": "stream",
     "text": [
      "2019-07-25\n",
      "2019-08-07\n"
     ]
    }
   ],
   "source": [
    "print(data[\"fecha\"].min())\n",
    "print(data[\"fecha\"].max())"
   ]
  },
  {
   "cell_type": "markdown",
   "metadata": {},
   "source": [
    "Los datos cubren desde 25-07-2019 hasta el 07-08-2019"
   ]
  },
  {
   "cell_type": "markdown",
   "metadata": {},
   "source": [
    "Histograma por fecha y hora."
   ]
  },
  {
   "cell_type": "code",
   "execution_count": 27,
   "metadata": {},
   "outputs": [
    {
     "data": {
      "image/png": "[encoded data removed]",
      "text/plain": [
       "<Figure size 640x480 with 1 Axes>"
      ]
     },
     "metadata": {},
     "output_type": "display_data"
    }
   ],
   "source": [
    "plt.hist(data[\"fecha_hora\"])\n",
    "\n",
    "# Agregar etiquetas y título\n",
    "plt.xlabel('Fecha y hora de evento')\n",
    "plt.ylabel('Frecuencia')\n",
    "plt.title('Frecuencia de eventos en el tiempo')\n",
    "plt.xticks(rotation=45)\n",
    "\n",
    "plt.show()"
   ]
  },
  {
   "cell_type": "markdown",
   "metadata": {},
   "source": [
    "La mayoría de los datos se encuentran entre 31-07-2019 y 07-08-2019"
   ]
  },
  {
   "cell_type": "markdown",
   "metadata": {},
   "source": [
    "## ¿Puedes tener seguridad de que tienes datos igualmente completos para todo el periodo? "
   ]
  },
  {
   "cell_type": "code",
   "execution_count": 39,
   "metadata": {},
   "outputs": [
    {
     "data": {
      "image/png": "[encoded data removed]",
      "text/plain": [
       "<Figure size 1000x600 with 1 Axes>"
      ]
     },
     "metadata": {},
     "output_type": "display_data"
    }
   ],
   "source": [
    "# Configuración del gráfico\n",
    "plt.figure(figsize=(10, 6))\n",
    "\n",
    "# Graficar el countplot con el parámetro hue\n",
    "sns.countplot(x='fecha', hue='event_name', data=data)\n",
    "\n",
    "# Agregar etiquetas y título\n",
    "plt.xlabel('Fecha')\n",
    "plt.ylabel('Frecuencia')\n",
    "plt.title('Frecuencia de eventos en el tiempo')\n",
    "\n",
    "# Rotar las etiquetas del eje X para mejorar la legibilidad\n",
    "plt.xticks(rotation=45)\n",
    "\n",
    "plt.legend(title='Evento')  # Agregar leyenda\n",
    "\n",
    "plt.show()"
   ]
  },
  {
   "cell_type": "markdown",
   "metadata": {},
   "source": [
    "En el gráfico se puede observar que se tiene una data más completa a partir del 01/08/2019 hasta el 07/08/2019, se observa tambien que cada día contiene los 5 eventos. Así que será el periodo elegido para el análisis."
   ]
  },
  {
   "cell_type": "markdown",
   "metadata": {},
   "source": [
    "## ¿Perdiste muchos eventos y usuarios al excluir los datos más antiguos?"
   ]
  },
  {
   "cell_type": "code",
   "execution_count": 50,
   "metadata": {},
   "outputs": [],
   "source": [
    "data['fecha'] = pd.to_datetime(data['fecha'], format=\"%Y/%m/%d\")\n",
    "fecha_inicial = pd.to_datetime(\"2019-08-01\")\n",
    "data_filtrada = data[data[\"fecha\"]>= fecha_inicial]"
   ]
  },
  {
   "cell_type": "code",
   "execution_count": 56,
   "metadata": {},
   "outputs": [],
   "source": [
    "var_eventos = (1 - len (data_filtrada)/len(data))*100\n",
    "var_usuarios = (1 - data_filtrada[\"device_id_hash\"].nunique()/data[\"device_id_hash\"].nunique())*100"
   ]
  },
  {
   "cell_type": "code",
   "execution_count": 57,
   "metadata": {},
   "outputs": [
    {
     "name": "stdout",
     "output_type": "stream",
     "text": [
      "1.1591503120473634\n",
      "0.22513574361011646\n"
     ]
    }
   ],
   "source": [
    "print(var_eventos)\n",
    "print(var_usuarios)"
   ]
  },
  {
   "cell_type": "markdown",
   "metadata": {},
   "source": [
    "Se eliminó el 1.15 % de usuarios y 0.22% de eventos con respecto a la data inicial."
   ]
  },
  {
   "cell_type": "markdown",
   "metadata": {},
   "source": [
    "## Grupos de usuarios experimentales"
   ]
  },
  {
   "cell_type": "code",
   "execution_count": 59,
   "metadata": {},
   "outputs": [
    {
     "data": {
      "text/plain": [
       "exp_id\n",
       "246    2484\n",
       "247    2513\n",
       "248    2537\n",
       "Name: device_id_hash, dtype: int64"
      ]
     },
     "execution_count": 59,
     "metadata": {},
     "output_type": "execute_result"
    }
   ],
   "source": [
    "data_filtrada.groupby(\"exp_id\")[\"device_id_hash\"].nunique() #cantidad de usuarios por grupo experimental"
   ]
  },
  {
   "cell_type": "markdown",
   "metadata": {},
   "source": [
    "Se observa que hay similar cantidad de usuarios en cada grupo experimental"
   ]
  },
  {
   "cell_type": "markdown",
   "metadata": {},
   "source": [
    "# Paso 4. Estudiar el embudo de eventos"
   ]
  },
  {
   "cell_type": "markdown",
   "metadata": {},
   "source": [
    "## Frecuencia de eventos"
   ]
  },
  {
   "cell_type": "code",
   "execution_count": 71,
   "metadata": {},
   "outputs": [
    {
     "name": "stderr",
     "output_type": "stream",
     "text": [
      "C:\\Users\\LUCIA\\AppData\\Local\\Temp\\ipykernel_9248\\1910978074.py:1: FutureWarning: The default of observed=False is deprecated and will be changed to True in a future version of pandas. Pass observed=False to retain current behavior or observed=True to adopt the future default and silence this warning.\n",
      "  data_filtrada.groupby(\"event_name\")[\"exp_id\"].count().sort_values(ascending= False).reset_index()\n"
     ]
    },
    {
     "data": {
      "text/html": [
       "<div>\n",
       "<style scoped>\n",
       "    .dataframe tbody tr th:only-of-type {\n",
       "        vertical-align: middle;\n",
       "    }\n",
       "\n",
       "    .dataframe tbody tr th {\n",
       "        vertical-align: top;\n",
       "    }\n",
       "\n",
       "    .dataframe thead th {\n",
       "        text-align: right;\n",
       "    }\n",
       "</style>\n",
       "<table border=\"1\" class=\"dataframe\">\n",
       "  <thead>\n",
       "    <tr style=\"text-align: right;\">\n",
       "      <th></th>\n",
       "      <th>event_name</th>\n",
       "      <th>exp_id</th>\n",
       "    </tr>\n",
       "  </thead>\n",
       "  <tbody>\n",
       "    <tr>\n",
       "      <th>0</th>\n",
       "      <td>MainScreenAppear</td>\n",
       "      <td>117329</td>\n",
       "    </tr>\n",
       "    <tr>\n",
       "      <th>1</th>\n",
       "      <td>OffersScreenAppear</td>\n",
       "      <td>46333</td>\n",
       "    </tr>\n",
       "    <tr>\n",
       "      <th>2</th>\n",
       "      <td>CartScreenAppear</td>\n",
       "      <td>42303</td>\n",
       "    </tr>\n",
       "    <tr>\n",
       "      <th>3</th>\n",
       "      <td>PaymentScreenSuccessful</td>\n",
       "      <td>33918</td>\n",
       "    </tr>\n",
       "    <tr>\n",
       "      <th>4</th>\n",
       "      <td>Tutorial</td>\n",
       "      <td>1005</td>\n",
       "    </tr>\n",
       "  </tbody>\n",
       "</table>\n",
       "</div>"
      ],
      "text/plain": [
       "                event_name  exp_id\n",
       "0         MainScreenAppear  117329\n",
       "1       OffersScreenAppear   46333\n",
       "2         CartScreenAppear   42303\n",
       "3  PaymentScreenSuccessful   33918\n",
       "4                 Tutorial    1005"
      ]
     },
     "execution_count": 71,
     "metadata": {},
     "output_type": "execute_result"
    }
   ],
   "source": [
    "data_filtrada.groupby(\"event_name\")[\"exp_id\"].count().sort_values(ascending= False).reset_index()"
   ]
  },
  {
   "cell_type": "markdown",
   "metadata": {},
   "source": [
    "## Cantidad de usuarios por evento"
   ]
  },
  {
   "cell_type": "code",
   "execution_count": 77,
   "metadata": {},
   "outputs": [
    {
     "name": "stderr",
     "output_type": "stream",
     "text": [
      "C:\\Users\\LUCIA\\AppData\\Local\\Temp\\ipykernel_9248\\2420504992.py:1: FutureWarning: The default of observed=False is deprecated and will be changed to True in a future version of pandas. Pass observed=False to retain current behavior or observed=True to adopt the future default and silence this warning.\n",
      "  data_eventos=data_filtrada.groupby(\"event_name\")[\"device_id_hash\"].nunique().sort_values(ascending=False).reset_index()\n"
     ]
    },
    {
     "data": {
      "text/html": [
       "<div>\n",
       "<style scoped>\n",
       "    .dataframe tbody tr th:only-of-type {\n",
       "        vertical-align: middle;\n",
       "    }\n",
       "\n",
       "    .dataframe tbody tr th {\n",
       "        vertical-align: top;\n",
       "    }\n",
       "\n",
       "    .dataframe thead th {\n",
       "        text-align: right;\n",
       "    }\n",
       "</style>\n",
       "<table border=\"1\" class=\"dataframe\">\n",
       "  <thead>\n",
       "    <tr style=\"text-align: right;\">\n",
       "      <th></th>\n",
       "      <th>event_name</th>\n",
       "      <th>device_id_hash</th>\n",
       "    </tr>\n",
       "  </thead>\n",
       "  <tbody>\n",
       "    <tr>\n",
       "      <th>0</th>\n",
       "      <td>MainScreenAppear</td>\n",
       "      <td>7419</td>\n",
       "    </tr>\n",
       "    <tr>\n",
       "      <th>1</th>\n",
       "      <td>OffersScreenAppear</td>\n",
       "      <td>4593</td>\n",
       "    </tr>\n",
       "    <tr>\n",
       "      <th>2</th>\n",
       "      <td>CartScreenAppear</td>\n",
       "      <td>3734</td>\n",
       "    </tr>\n",
       "    <tr>\n",
       "      <th>3</th>\n",
       "      <td>PaymentScreenSuccessful</td>\n",
       "      <td>3539</td>\n",
       "    </tr>\n",
       "    <tr>\n",
       "      <th>4</th>\n",
       "      <td>Tutorial</td>\n",
       "      <td>840</td>\n",
       "    </tr>\n",
       "  </tbody>\n",
       "</table>\n",
       "</div>"
      ],
      "text/plain": [
       "                event_name  device_id_hash\n",
       "0         MainScreenAppear            7419\n",
       "1       OffersScreenAppear            4593\n",
       "2         CartScreenAppear            3734\n",
       "3  PaymentScreenSuccessful            3539\n",
       "4                 Tutorial             840"
      ]
     },
     "metadata": {},
     "output_type": "display_data"
    }
   ],
   "source": [
    "data_eventos=data_filtrada.groupby(\"event_name\")[\"device_id_hash\"].nunique().sort_values(ascending=False).reset_index()\n",
    "display(data_eventos)"
   ]
  },
  {
   "cell_type": "markdown",
   "metadata": {},
   "source": [
    "## Orden de acciones"
   ]
  },
  {
   "cell_type": "markdown",
   "metadata": {},
   "source": [
    "En el orden que se  muestra :\n",
    "\n",
    "\n",
    "MainScreenAppear           \n",
    "OffersScreenAppear         \n",
    "CartScreenAppear           \n",
    "PaymentScreenSuccessful    \n",
    "Tutorial "
   ]
  },
  {
   "cell_type": "code",
   "execution_count": 81,
   "metadata": {},
   "outputs": [],
   "source": [
    "# Calculando embudo\n",
    "data_eventos[\"n_id_prev\"] = data_eventos[\"device_id_hash\"].shift(1)\n"
   ]
  },
  {
   "cell_type": "code",
   "execution_count": 85,
   "metadata": {},
   "outputs": [],
   "source": [
    "data_eventos[\"variación\"] = data_eventos[\"device_id_hash\"] / data_eventos[\"n_id_prev\"]  "
   ]
  },
  {
   "cell_type": "code",
   "execution_count": 96,
   "metadata": {},
   "outputs": [],
   "source": [
    "data_eventos[\"conversion\"] = data_eventos[\"device_id_hash\"] / \\\n",
    "    data_eventos[\"n_id_prev\"]\n",
    "data_eventos[\"ratio\"] = 1- data_eventos[\"conversion\"]\n"
   ]
  },
  {
   "cell_type": "code",
   "execution_count": 98,
   "metadata": {},
   "outputs": [
    {
     "data": {
      "text/html": [
       "<div>\n",
       "<style scoped>\n",
       "    .dataframe tbody tr th:only-of-type {\n",
       "        vertical-align: middle;\n",
       "    }\n",
       "\n",
       "    .dataframe tbody tr th {\n",
       "        vertical-align: top;\n",
       "    }\n",
       "\n",
       "    .dataframe thead th {\n",
       "        text-align: right;\n",
       "    }\n",
       "</style>\n",
       "<table border=\"1\" class=\"dataframe\">\n",
       "  <thead>\n",
       "    <tr style=\"text-align: right;\">\n",
       "      <th></th>\n",
       "      <th>event_name</th>\n",
       "      <th>device_id_hash</th>\n",
       "      <th>nid_prev</th>\n",
       "      <th>n_id_prev</th>\n",
       "      <th>variación</th>\n",
       "      <th>ratio</th>\n",
       "      <th>conversion</th>\n",
       "    </tr>\n",
       "  </thead>\n",
       "  <tbody>\n",
       "    <tr>\n",
       "      <th>0</th>\n",
       "      <td>MainScreenAppear</td>\n",
       "      <td>7419</td>\n",
       "      <td>NaN</td>\n",
       "      <td>NaN</td>\n",
       "      <td>NaN</td>\n",
       "      <td>NaN</td>\n",
       "      <td>NaN</td>\n",
       "    </tr>\n",
       "    <tr>\n",
       "      <th>1</th>\n",
       "      <td>OffersScreenAppear</td>\n",
       "      <td>4593</td>\n",
       "      <td>7419.0</td>\n",
       "      <td>7419.0</td>\n",
       "      <td>0.619086</td>\n",
       "      <td>0.380914</td>\n",
       "      <td>0.619086</td>\n",
       "    </tr>\n",
       "    <tr>\n",
       "      <th>2</th>\n",
       "      <td>CartScreenAppear</td>\n",
       "      <td>3734</td>\n",
       "      <td>4593.0</td>\n",
       "      <td>4593.0</td>\n",
       "      <td>0.812976</td>\n",
       "      <td>0.187024</td>\n",
       "      <td>0.812976</td>\n",
       "    </tr>\n",
       "    <tr>\n",
       "      <th>3</th>\n",
       "      <td>PaymentScreenSuccessful</td>\n",
       "      <td>3539</td>\n",
       "      <td>3734.0</td>\n",
       "      <td>3734.0</td>\n",
       "      <td>0.947777</td>\n",
       "      <td>0.052223</td>\n",
       "      <td>0.947777</td>\n",
       "    </tr>\n",
       "    <tr>\n",
       "      <th>4</th>\n",
       "      <td>Tutorial</td>\n",
       "      <td>840</td>\n",
       "      <td>3539.0</td>\n",
       "      <td>3539.0</td>\n",
       "      <td>0.237355</td>\n",
       "      <td>0.762645</td>\n",
       "      <td>0.237355</td>\n",
       "    </tr>\n",
       "  </tbody>\n",
       "</table>\n",
       "</div>"
      ],
      "text/plain": [
       "                event_name  device_id_hash  nid_prev  n_id_prev  variación  \\\n",
       "0         MainScreenAppear            7419       NaN        NaN        NaN   \n",
       "1       OffersScreenAppear            4593    7419.0     7419.0   0.619086   \n",
       "2         CartScreenAppear            3734    4593.0     4593.0   0.812976   \n",
       "3  PaymentScreenSuccessful            3539    3734.0     3734.0   0.947777   \n",
       "4                 Tutorial             840    3539.0     3539.0   0.237355   \n",
       "\n",
       "      ratio  conversion  \n",
       "0       NaN         NaN  \n",
       "1  0.380914    0.619086  \n",
       "2  0.187024    0.812976  \n",
       "3  0.052223    0.947777  \n",
       "4  0.762645    0.237355  "
      ]
     },
     "metadata": {},
     "output_type": "display_data"
    }
   ],
   "source": [
    "display(data_eventos)"
   ]
  },
  {
   "cell_type": "code",
   "execution_count": 92,
   "metadata": {},
   "outputs": [
    {
     "name": "stdout",
     "output_type": "stream",
     "text": [
      "11.322280630812779\n"
     ]
    }
   ],
   "source": [
    "conversión_total = 840/7419*100\n",
    "print(conversión_total)"
   ]
  },
  {
   "cell_type": "code",
   "execution_count": 101,
   "metadata": {},
   "outputs": [
    {
     "name": "stdout",
     "output_type": "stream",
     "text": [
      "47.70184661005526\n"
     ]
    }
   ],
   "source": [
    "conversión_pago = 3539/7419*100\n",
    "print(conversión_pago)"
   ]
  },
  {
   "cell_type": "markdown",
   "metadata": {},
   "source": [
    "La etapa en la que se pierde más usuarios al pasar del primer evento al segundo evento se pierde 2697 usuarios.\n",
    "El 11.32% de usuarios llegan al evento final. El 47.7% de los usuarios pasan del primer evento hasta realizar el pago."
   ]
  },
  {
   "cell_type": "markdown",
   "metadata": {},
   "source": [
    "# Paso 5. Estudiar los resultados del experimento"
   ]
  },
  {
   "cell_type": "markdown",
   "metadata": {},
   "source": [
    "¿Cuántos usuarios y usuarias hay en cada grupo?"
   ]
  },
  {
   "cell_type": "code",
   "execution_count": 102,
   "metadata": {},
   "outputs": [
    {
     "data": {
      "text/plain": [
       "exp_id\n",
       "246    2484\n",
       "247    2513\n",
       "248    2537\n",
       "Name: device_id_hash, dtype: int64"
      ]
     },
     "execution_count": 102,
     "metadata": {},
     "output_type": "execute_result"
    }
   ],
   "source": [
    "data_filtrada.groupby(\"exp_id\")[\"device_id_hash\"].nunique()  # cantidad de usuarios por grupo experimental"
   ]
  },
  {
   "cell_type": "markdown",
   "metadata": {},
   "source": [
    "##  Tenemos dos grupos de control en el test A/A, donde comprobamos nuestros mecanismos y cálculos. Observa si hay una diferencia estadísticamente significativa entre las muestras 246 y 247."
   ]
  },
  {
   "cell_type": "code",
   "execution_count": 103,
   "metadata": {},
   "outputs": [
    {
     "data": {
      "text/html": [
       "<div>\n",
       "<style scoped>\n",
       "    .dataframe tbody tr th:only-of-type {\n",
       "        vertical-align: middle;\n",
       "    }\n",
       "\n",
       "    .dataframe tbody tr th {\n",
       "        vertical-align: top;\n",
       "    }\n",
       "\n",
       "    .dataframe thead th {\n",
       "        text-align: right;\n",
       "    }\n",
       "</style>\n",
       "<table border=\"1\" class=\"dataframe\">\n",
       "  <thead>\n",
       "    <tr style=\"text-align: right;\">\n",
       "      <th></th>\n",
       "      <th>index</th>\n",
       "      <th>event_name</th>\n",
       "      <th>device_id_hash</th>\n",
       "      <th>event_times_tamp</th>\n",
       "      <th>exp_id</th>\n",
       "      <th>fecha_hora</th>\n",
       "      <th>fecha</th>\n",
       "    </tr>\n",
       "  </thead>\n",
       "  <tbody>\n",
       "    <tr>\n",
       "      <th>2825</th>\n",
       "      <td>2827</td>\n",
       "      <td>MainScreenAppear</td>\n",
       "      <td>2413191300976302222</td>\n",
       "      <td>1564617599</td>\n",
       "      <td>247</td>\n",
       "      <td>2019-08-01 00:00:00</td>\n",
       "      <td>2019-08-01</td>\n",
       "    </tr>\n",
       "    <tr>\n",
       "      <th>2826</th>\n",
       "      <td>2828</td>\n",
       "      <td>Tutorial</td>\n",
       "      <td>3737462046622621720</td>\n",
       "      <td>1564618048</td>\n",
       "      <td>246</td>\n",
       "      <td>2019-08-01 00:06:24</td>\n",
       "      <td>2019-08-01</td>\n",
       "    </tr>\n",
       "    <tr>\n",
       "      <th>2827</th>\n",
       "      <td>2829</td>\n",
       "      <td>MainScreenAppear</td>\n",
       "      <td>3737462046622621720</td>\n",
       "      <td>1564618080</td>\n",
       "      <td>246</td>\n",
       "      <td>2019-08-01 00:08:32</td>\n",
       "      <td>2019-08-01</td>\n",
       "    </tr>\n",
       "    <tr>\n",
       "      <th>2828</th>\n",
       "      <td>2830</td>\n",
       "      <td>MainScreenAppear</td>\n",
       "      <td>3737462046622621720</td>\n",
       "      <td>1564618135</td>\n",
       "      <td>246</td>\n",
       "      <td>2019-08-01 00:08:32</td>\n",
       "      <td>2019-08-01</td>\n",
       "    </tr>\n",
       "    <tr>\n",
       "      <th>2829</th>\n",
       "      <td>2831</td>\n",
       "      <td>OffersScreenAppear</td>\n",
       "      <td>3737462046622621720</td>\n",
       "      <td>1564618138</td>\n",
       "      <td>246</td>\n",
       "      <td>2019-08-01 00:08:32</td>\n",
       "      <td>2019-08-01</td>\n",
       "    </tr>\n",
       "  </tbody>\n",
       "</table>\n",
       "</div>"
      ],
      "text/plain": [
       "      index          event_name       device_id_hash event_times_tamp  exp_id  \\\n",
       "2825   2827    MainScreenAppear  2413191300976302222       1564617599     247   \n",
       "2826   2828            Tutorial  3737462046622621720       1564618048     246   \n",
       "2827   2829    MainScreenAppear  3737462046622621720       1564618080     246   \n",
       "2828   2830    MainScreenAppear  3737462046622621720       1564618135     246   \n",
       "2829   2831  OffersScreenAppear  3737462046622621720       1564618138     246   \n",
       "\n",
       "              fecha_hora      fecha  \n",
       "2825 2019-08-01 00:00:00 2019-08-01  \n",
       "2826 2019-08-01 00:06:24 2019-08-01  \n",
       "2827 2019-08-01 00:08:32 2019-08-01  \n",
       "2828 2019-08-01 00:08:32 2019-08-01  \n",
       "2829 2019-08-01 00:08:32 2019-08-01  "
      ]
     },
     "execution_count": 103,
     "metadata": {},
     "output_type": "execute_result"
    }
   ],
   "source": [
    "data_filtrada.head()"
   ]
  },
  {
   "cell_type": "code",
   "execution_count": 115,
   "metadata": {},
   "outputs": [],
   "source": [
    "#función prueba de significancia para dos grupos\n",
    "\n",
    "def t_test(df, group1, group2, event, group_col=\"exp_id\"):\n",
    "\n",
    "    conversions = df[[\"device_id_hash\", group_col]].drop_duplicates()\n",
    "\n",
    "    converted = pd.DataFrame(data={\n",
    "        \"device_id_hash\": df[df[\"event_name\"] == event][\"device_id_hash\"].unique(),\n",
    "        \"converted\": 1\n",
    "    })\n",
    "\n",
    "    conversions = conversions.merge(converted, on=\"device_id_hash\", how=\"left\")\n",
    "    conversions[\"converted\"] = conversions[\"converted\"].fillna(0)\n",
    "\n",
    "    statistic, pvalue = ttest_ind(\n",
    "        conversions[conversions[group_col] == group1][\"converted\"],\n",
    "        conversions[conversions[group_col] == group2][\"converted\"]\n",
    "    )\n",
    "\n",
    "    return statistic, pvalue"
   ]
  },
  {
   "cell_type": "code",
   "execution_count": 125,
   "metadata": {},
   "outputs": [
    {
     "name": "stdout",
     "output_type": "stream",
     "text": [
      "Running A/A tests...\n",
      "\n",
      "  Event: MainScreenAppear\n",
      "  p-value: 0.7571174621103072\n",
      "  \n",
      "\n",
      "\n",
      "  Event: Tutorial\n",
      "  p-value: 0.9377151544645461\n",
      "  \n",
      "\n",
      "\n",
      "  Event: OffersScreenAppear\n",
      "  p-value: 0.24818223444867904\n",
      "  \n",
      "\n",
      "\n",
      "  Event: CartScreenAppear\n",
      "  p-value: 0.22891646330485427\n",
      "  \n",
      "\n",
      "\n",
      "  Event: PaymentScreenSuccessful\n",
      "  p-value: 0.1146123316324848\n",
      "  \n",
      "\n"
     ]
    }
   ],
   "source": [
    "events = data_filtrada[\"event_name\"].unique()\n",
    "print(\"Running A/A tests...\")\n",
    "for event in events:\n",
    "    _, pvalue = t_test(data_filtrada, 246, 247, event)\n",
    "\n",
    "    print(f\"\"\"\n",
    "  Event: {event}\n",
    "  p-value: {pvalue}\n",
    "  \"\"\")\n",
    "    print()"
   ]
  },
  {
   "cell_type": "code",
   "execution_count": 131,
   "metadata": {},
   "outputs": [
    {
     "name": "stdout",
     "output_type": "stream",
     "text": [
      "\n",
      "Nivel de significancia para cada prueba debe ser mayor a : 0.012741455098566168\n",
      "\n"
     ]
    }
   ],
   "source": [
    "n_pruebas = 4\n",
    "alpha = 0.05\n",
    "\n",
    "print(f\"\"\"\n",
    "Nivel de significancia para cada prueba debe ser mayor a : {1 - math.pow((1 - alpha), 1/n_pruebas)}\n",
    "\"\"\")"
   ]
  },
  {
   "cell_type": "markdown",
   "metadata": {},
   "source": [
    "No se puede rechazar la hipotesis nula, lo que podemos concluir que no hay una diferencia estadísticamente significativa entre las muestras"
   ]
  },
  {
   "cell_type": "code",
   "execution_count": 134,
   "metadata": {},
   "outputs": [],
   "source": [
    "data_filtrada.loc[data_filtrada[\"exp_id\"].isin([246, 247]), \"prueba_a_b\"] = \"A\"\n",
    "data_filtrada.loc[data_filtrada[\"exp_id\"].isin([248]), \"prueba_a_b\"] = \"B\""
   ]
  },
  {
   "cell_type": "code",
   "execution_count": 137,
   "metadata": {},
   "outputs": [
    {
     "name": "stdout",
     "output_type": "stream",
     "text": [
      "Running A/B tests...\n",
      "\n",
      "Event: MainScreenAppear\n",
      "\n",
      "    Comparison: 246 vs. experiment\n",
      "    p-value: 0.29506606465679136\n",
      "    \n",
      "\n",
      "    Comparison: 247 vs. experiment\n",
      "    p-value: 0.45880437959723175\n",
      "    \n"
     ]
    },
    {
     "name": "stdout",
     "output_type": "stream",
     "text": [
      "\n",
      "  Comparison: all control vs. experiment\n",
      "  p-value: 0.294307760265927\n",
      "  \n",
      "Event: Tutorial\n",
      "\n",
      "    Comparison: 246 vs. experiment\n",
      "    p-value: 0.8264715202653616\n",
      "    \n",
      "\n",
      "    Comparison: 247 vs. experiment\n",
      "    p-value: 0.7653793082832738\n",
      "    \n",
      "\n",
      "  Comparison: all control vs. experiment\n",
      "  p-value: 0.7648996614965458\n",
      "  \n",
      "Event: OffersScreenAppear\n",
      "\n",
      "    Comparison: 246 vs. experiment\n",
      "    p-value: 0.20843948636199391\n",
      "    \n",
      "\n",
      "    Comparison: 247 vs. experiment\n",
      "    p-value: 0.9198015341631126\n",
      "    \n",
      "\n",
      "  Comparison: all control vs. experiment\n",
      "  p-value: 0.43432243008491267\n",
      "  \n",
      "Event: CartScreenAppear\n",
      "\n",
      "    Comparison: 246 vs. experiment\n",
      "    p-value: 0.07845751752267907\n",
      "    \n",
      "\n",
      "    Comparison: 247 vs. experiment\n",
      "    p-value: 0.5787080147829399\n",
      "    \n",
      "\n",
      "  Comparison: all control vs. experiment\n",
      "  p-value: 0.18180539347221458\n",
      "  \n",
      "Event: PaymentScreenSuccessful\n",
      "\n",
      "    Comparison: 246 vs. experiment\n",
      "    p-value: 0.2123337471133262\n",
      "    \n",
      "\n",
      "    Comparison: 247 vs. experiment\n",
      "    p-value: 0.7374027184332623\n",
      "    \n",
      "\n",
      "  Comparison: all control vs. experiment\n",
      "  p-value: 0.600486568376488\n",
      "  \n"
     ]
    }
   ],
   "source": [
    "events = data_filtrada[\"event_name\"].unique()\n",
    "controls = [246, 247]\n",
    "\n",
    "print(\"Running A/B tests...\")\n",
    "print()\n",
    "for event in events:\n",
    "\n",
    "    print(f\"Event: {event}\")\n",
    "\n",
    "    for control in controls:\n",
    "\n",
    "        _, pvalue = t_test(data_filtrada, control,248, event)\n",
    "\n",
    "        print(f\"\"\"\n",
    "    Comparison: {control} vs. experiment\n",
    "    p-value: {pvalue}\n",
    "    \"\"\")\n",
    "    _, pvalue = t_test(data_filtrada, \"A\", \"B\", event, group_col=\"prueba_a_b\")\n",
    "\n",
    "    print(f\"\"\"\n",
    "  Comparison: all control vs. experiment\n",
    "  p-value: {pvalue}\n",
    "  \"\"\")"
   ]
  },
  {
   "cell_type": "code",
   "execution_count": 138,
   "metadata": {},
   "outputs": [
    {
     "name": "stdout",
     "output_type": "stream",
     "text": [
      "\n",
      "Nivel de significancia para cada prueba debe ser mayor a : 0.004265318777560645\n",
      "\n"
     ]
    }
   ],
   "source": [
    "n_pruebas = 12\n",
    "alpha = 0.05\n",
    "\n",
    "print(f\"\"\"\n",
    "Nivel de significancia para cada prueba debe ser mayor a : {1 - math.pow((1 - alpha), 1/n_pruebas)}\n",
    "\"\"\")"
   ]
  },
  {
   "cell_type": "markdown",
   "metadata": {},
   "source": [
    "No se puede rechazar la hipotesis nula, lo que podemos concluir que no hay una diferencia estadísticamente significativa entre las muestras"
   ]
  },
  {
   "cell_type": "markdown",
   "metadata": {},
   "source": [
    "# Conclusiones"
   ]
  },
  {
   "cell_type": "markdown",
   "metadata": {},
   "source": [
    "En este caso, no hay evidencia suficiente para rechazar la hipótesis nula de que no hay diferencia entre los grupos A y B. Por lo tanto, se concluye que los grupos A y B son similares y que cualquier diferencia observada entre ellos podría deberse al azar en lugar de a un efecto real.\n",
    "\n",
    "Cambiar las fuentes de toda la aplicación no genera cambios significativos en el comportamiento del usuario.\n",
    "\n",
    "Solo el 61% de usuarios ven la pantalla de ofertas, luego de ver la pantalla de inicio.Esto puede sugerir indagar cuál es el motivo que hace que sea la etapa donde se pierda la mayor cantidad de usuarios. Quizá la pantalla de ofertas tarda en aparecer o no se está mostrando como deberia."
   ]
  }
 ],
 "metadata": {
  "kernelspec": {
   "display_name": "Python 3",
   "language": "python",
   "name": "python3"
  },
  "language_info": {
   "codemirror_mode": {
    "name": "ipython",
    "version": 3
   },
   "file_extension": ".py",
   "mimetype": "text/x-python",
   "name": "python",
   "nbconvert_exporter": "python",
   "pygments_lexer": "ipython3",
   "version": "3.12.2"
  }
 },
 "nbformat": 4,
 "nbformat_minor": 2
}
